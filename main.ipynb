{
 "cells": [
  {
   "cell_type": "markdown",
   "metadata": {},
   "source": [
    "In this project, I tried to predict the rating based on products' reviews. "
   ]
  },
  {
   "cell_type": "code",
   "execution_count": 17,
   "metadata": {},
   "outputs": [],
   "source": [
    "import gzip\n",
    "import string\n",
    "from collections import defaultdict\n",
    "import matplotlib.pyplot as plt\n",
    "from IPython.display import clear_output\n",
    "import string\n",
    "import random\n",
    "import math\n",
    "import ast\n",
    "import numpy as np\n",
    "import json\n",
    "\n",
    "from sklearn import svm\n",
    "from sklearn.neighbors import KNeighborsClassifier\n",
    "from sklearn.linear_model import LogisticRegression\n",
    "from sklearn.metrics import plot_confusion_matrix\n",
    "import sklearn.preprocessing\n"
   ]
  },
  {
   "cell_type": "code",
   "execution_count": 3,
   "metadata": {},
   "outputs": [],
   "source": [
    "def parse(file):\n",
    "#     total_count = 0\n",
    "    keep = 0\n",
    "    withdraw = 0\n",
    "    for l in gzip.open(file):\n",
    "        l = l.replace(b'true', b'True') # all data read from the file is returned as bytes\n",
    "        l = l.replace(b'false', b'False')\n",
    "        item = eval(l)\n",
    "        year = int(item['reviewTime'].split(',')[1])\n",
    "        if year > 2010 and item['verified'] and 'reviewText' in item.keys():\n",
    "            keep += 1\n",
    "            \n",
    "            yield item\n",
    "        else:\n",
    "            withdraw += 1\n",
    "        \n",
    "        clear_output(wait=True)\n",
    "        print(keep+withdraw, keep, withdraw)\n",
    "        if keep == 70000: break\n",
    "        "
   ]
  },
  {
   "cell_type": "code",
   "execution_count": 4,
   "metadata": {},
   "outputs": [
    {
     "name": "stderr",
     "output_type": "stream",
     "text": [
      "IOPub message rate exceeded.\n",
      "The notebook server will temporarily stop sending output\n",
      "to the client in order to avoid crashing it.\n",
      "To change this limit, set the config variable\n",
      "`--NotebookApp.iopub_msg_rate_limit`.\n",
      "\n",
      "Current values:\n",
      "NotebookApp.iopub_msg_rate_limit=1000.0 (msgs/sec)\n",
      "NotebookApp.rate_limit_window=3.0 (secs)\n",
      "\n"
     ]
    }
   ],
   "source": [
    "dataset = list(parse(\"Grocery_and_Gourmet_Food_5.json.gz\"))"
   ]
  },
  {
   "cell_type": "code",
   "execution_count": 5,
   "metadata": {},
   "outputs": [
    {
     "name": "stdout",
     "output_type": "stream",
     "text": [
      "{'overall': 5.0, 'verified': True, 'reviewTime': '04 7, 2012', 'reviewerID': 'AOP5TUC7TTEY0', 'asin': 'B000E48IMO', 'style': {'Size:': ' 10.6 Ounce (Pack of 6)', 'Flavor:': ' Mesa Sunrise'}, 'reviewerName': 'J', 'reviewText': \"This is my favorite gluten free cereal. Good ingredients, flavor and texture. Only negative is that the price on Amazon isn't much below the local health food store, and much higher when it's on sale at the store at 2.99.\", 'summary': 'Cereal', 'unixReviewTime': 1333756800}\n"
     ]
    }
   ],
   "source": [
    "print(dataset[50000])"
   ]
  },
  {
   "cell_type": "code",
   "execution_count": 6,
   "metadata": {},
   "outputs": [
    {
     "name": "stdout",
     "output_type": "stream",
     "text": [
      "70000\n"
     ]
    }
   ],
   "source": [
    "print(len(dataset))"
   ]
  },
  {
   "cell_type": "markdown",
   "metadata": {},
   "source": [
    "### Data Distribution Visaulization"
   ]
  },
  {
   "cell_type": "code",
   "execution_count": 28,
   "metadata": {},
   "outputs": [
    {
     "name": "stdout",
     "output_type": "stream",
     "text": [
      "Rating count: [(1.0, 2304), (2.0, 2045), (3.0, 4200), (4.0, 8487), (5.0, 52964)]\n",
      "Average rating: 4.539457142857143\n",
      "Number of reviewer: 44186\n",
      "Number of music: 1820\n",
      "Average review length: 174.21231428571429\n",
      "reviewText: 70000\n",
      "Number of reviews in each year [('2011', 1750), ('2012', 2662), ('2013', 7878), ('2014', 12720), ('2015', 17591), ('2016', 14490), ('2017', 9965), ('2018', 2944)]\n",
      "Average rating of each year: [('2011', 4.386285714285714), ('2012', 4.412847483095417), ('2013', 4.5053313023610055), ('2014', 4.5158018867924525), ('2015', 4.581774771189813), ('2016', 4.5822636300897175), ('2017', 4.5257400903161065), ('2018', 4.521399456521739)]\n"
     ]
    }
   ],
   "source": [
    "rating_count = defaultdict(int)\n",
    "reviewer = defaultdict(int)\n",
    "review_count_year = defaultdict(int) # number of reviews in each year\n",
    "asin = set()\n",
    "ave_review_length = 0\n",
    "ave_rating = 0\n",
    "ave_rating_year = defaultdict(int)\n",
    "count_reviewText = 0\n",
    "\n",
    "# rating count\n",
    "for d in dataset:\n",
    "    rating_count[d['overall']] += 1\n",
    "    ave_rating += d['overall']\n",
    "    if 'reviewText' in d.keys(): # not every item has key 'reviewText'\n",
    "        count_reviewText += 1\n",
    "        ave_review_length += len(d['reviewText']) \n",
    "    reviewer[d['reviewerID']] += 1\n",
    "    asin.add(d['asin'])\n",
    "    \n",
    "    # number of reviews in each year\n",
    "    year = d['reviewTime'].split(',')[1].strip()\n",
    "    review_count_year[year] += 1\n",
    "    \n",
    "    ave_rating_year[year] += d['overall']\n",
    "    \n",
    "# count average year rating \n",
    "for k in ave_rating_year.keys():\n",
    "    ave_rating_year[k] = ave_rating_year[k]/review_count_year[k]\n",
    "    \n",
    "# sort dictionay\n",
    "rating_count = [(r, c) for r, c in sorted(rating_count.items(), key=lambda i:i[0])]\n",
    "sorted_reviewer = [(r, c) for r, c in sorted(reviewer.items(), key = lambda i:i[1], reverse = True)]\n",
    "sorted_review_count_year = [(y,n) for y,n in sorted(review_count_year.items(), key = lambda i:int(i[0]))]\n",
    "sorted_ave_rating_year = [(y,r) for y,r in sorted(ave_rating_year.items(), key = lambda i:int(i[0]))]\n",
    "\n",
    "# average rating\n",
    "ave_rating = ave_rating / len(dataset)\n",
    "ave_review_length = ave_review_length / len(dataset)\n",
    "\n",
    "print(\"Rating count:\", rating_count)\n",
    "print(\"Average rating:\", ave_rating)\n",
    "print(\"Number of reviewer:\", len(reviewer))\n",
    "print(\"Number of music:\", len(asin))\n",
    "print(\"Average review length:\", ave_review_length)\n",
    "print(\"reviewText:\", count_reviewText)\n",
    "print(\"Number of reviews in each year\", sorted_review_count_year)\n",
    "print(\"Average rating of each year:\", sorted_ave_rating_year)"
   ]
  },
  {
   "cell_type": "code",
   "execution_count": 69,
   "metadata": {},
   "outputs": [
    {
     "data": {
      "image/png": "[encoded data removed]",
      "text/plain": [
       "<Figure size 432x288 with 1 Axes>"
      ]
     },
     "metadata": {
      "needs_background": "light"
     },
     "output_type": "display_data"
    }
   ],
   "source": [
    "plt.bar(range(1,6), [i[1] for i in rating_count])\n",
    "plt.xticks(range(1,6))\n",
    "plt.xlabel(\"Rating\")\n",
    "plt.ylabel(\"Counts\")\n",
    "plt.title(\"Number of each rating\")\n",
    "plt.show()"
   ]
  },
  {
   "cell_type": "code",
   "execution_count": 70,
   "metadata": {},
   "outputs": [
    {
     "data": {
      "image/png": "[encoded data removed]",
      "text/plain": [
       "<Figure size 432x288 with 1 Axes>"
      ]
     },
     "metadata": {
      "needs_background": "light"
     },
     "output_type": "display_data"
    }
   ],
   "source": [
    "plt.bar([i[0] for i in sorted_review_count_year], [i[1] for i in sorted_review_count_year])\n",
    "plt.xlabel(\"Year\")\n",
    "plt.ylabel(\"Counts\")\n",
    "plt.title(\"Number of reviews in each year\")\n",
    "plt.show()"
   ]
  },
  {
   "cell_type": "code",
   "execution_count": 78,
   "metadata": {},
   "outputs": [
    {
     "data": {
      "image/png": "[encoded data removed]",
      "text/plain": [
       "<Figure size 432x288 with 1 Axes>"
      ]
     },
     "metadata": {
      "needs_background": "light"
     },
     "output_type": "display_data"
    }
   ],
   "source": [
    "# fig, axs = plt.subplots(1, 2, figsize = (12,5))\n",
    "\n",
    "plt.hist([len(i['reviewText']) for i in dataset], bins=50)\n",
    "plt.xlabel(\"Length\")\n",
    "plt.ylabel(\"Counts\")\n",
    "plt.title(\"Reviews' length\")\n",
    "plt.show()"
   ]
  },
  {
   "cell_type": "code",
   "execution_count": 77,
   "metadata": {},
   "outputs": [
    {
     "data": {
      "image/png": "[encoded data removed]",
      "text/plain": [
       "<Figure size 432x288 with 1 Axes>"
      ]
     },
     "metadata": {
      "needs_background": "light"
     },
     "output_type": "display_data"
    }
   ],
   "source": [
    "plt.hist([len(i['reviewText']) for i in dataset if len(i['reviewText'])<500 ], bins=100)\n",
    "plt.xlabel(\"Length\")\n",
    "plt.ylabel(\"Counts\")\n",
    "plt.title(\"Reviews' length (Zoom)\")\n",
    "plt.show()"
   ]
  },
  {
   "cell_type": "code",
   "execution_count": 139,
   "metadata": {},
   "outputs": [
    {
     "name": "stdout",
     "output_type": "stream",
     "text": [
      "70000\n"
     ]
    }
   ],
   "source": [
    "# import positive and negative from Opinion Lexicon\n",
    "#\n",
    "positive_bank, negative_bank = [], []\n",
    "for l in open('positive-words.txt', encoding = \"ISO-8859-1\"):\n",
    "    positive_bank.append(l.replace('\\n', ''))\n",
    "\n",
    "for l in open('negative-words.txt', encoding = \"ISO-8859-1\"):\n",
    "    negative_bank.append(l.replace('\\n', ''))\n",
    "    \n",
    "#positive words from reviews\n",
    "positive_words, negative_words = defaultdict(int), defaultdict(int)\n",
    "\n",
    "c = 0\n",
    "for d in dataset:\n",
    "#     in_target = False\n",
    "    words = ''.join([c for c in d['reviewText'] if c not in string.punctuation])\n",
    "    words = words.replace('\\n', '')\n",
    "    if d['overall'] >= 3: \n",
    "        for w in words.split():\n",
    "            if w in positive_bank:\n",
    "                positive_words[w] += 1\n",
    "    else:\n",
    "        for w in words.split():\n",
    "            if w in negative_bank:\n",
    "                negative_words[w] += 1\n",
    "    # print processing status            \n",
    "    c +=1\n",
    "    if c%100 == 0:\n",
    "        clear_output(wait=True)\n",
    "        print(c)\n",
    "# positive_words_list = [(w, c/len(positive_words)) for w, c in sorted(positive_words.items(), key = lambda i:i[1], reverse = True)]\n",
    "# negative_words_list = [(w, c/len(negative_words)) for w, c in sorted(negative_words.items(), key = lambda i:i[1], reverse = True)]"
   ]
  },
  {
   "cell_type": "code",
   "execution_count": 140,
   "metadata": {},
   "outputs": [
    {
     "name": "stdout",
     "output_type": "stream",
     "text": [
      "[('good', 14.383848454636091), ('like', 12.211365902293121), ('great', 11.084745762711865), ('love', 8.497507477567298), ('best', 4.0667996011964105), ('better', 3.7387836490528414), ('favorite', 3.7328015952143567), ('well', 3.5832502492522433), ('delicious', 3.1056829511465605), ('nice', 3.032901296111665), ('fresh', 2.748753738783649), ('hot', 2.4277168494516452), ('sweet', 2.419740777666999), ('free', 2.15752741774676), ('recommend', 1.9700897308075773), ('perfect', 1.7587238285144566), ('easy', 1.7477567298105683), ('right', 1.6600199401794615), ('strong', 1.6331006979062812), ('wonderful', 1.53938185443669)]\n",
      "[('bad', 0.44149577804583834), ('disappointed', 0.33775633293124246), ('hard', 0.23642943305186973), ('stale', 0.21109770808202655), ('smell', 0.16646562123039807), ('awful', 0.16284680337756333), ('waste', 0.15078407720144751), ('weak', 0.13148371531966224), ('bland', 0.12545235223160434), ('bitter', 0.12303980699638119), ('terrible', 0.11942098914354644), ('expensive', 0.11821471652593486), ('horrible', 0.11338962605548854), ('broken', 0.10253317249698432), ('weird', 0.08323281061519903), ('gross', 0.08202653799758745), ('worst', 0.08202653799758745), ('problem', 0.08082026537997587), ('nasty', 0.07961399276236429), ('wrong', 0.07720144752714113)]\n",
      "good, like, great, love, best, better, favorite, well, delicious, nice, fresh, hot, sweet, free, recommend, perfect, easy, right, strong, wonderful\n",
      "bad, disappointed, hard, stale, smell, awful, waste, weak, bland, bitter, terrible, expensive, horrible, broken, weird, gross, worst, problem, nasty, wrong\n"
     ]
    }
   ],
   "source": [
    "positive_words_list = [(w, c/len(positive_words)) for w, c in sorted(positive_words.items(), key = lambda i:i[1], reverse = True)]\n",
    "negative_words_list = [(w, c/len(negative_words)) for w, c in sorted(negative_words.items(), key = lambda i:i[1], reverse = True)]\n",
    "print(positive_words_list[:20])\n",
    "print(negative_words_list[:20])\n",
    "print(\", \".join([i[0] for i in positive_words_list[:20]]))\n",
    "print(\", \".join([i[0] for i in negative_words_list[:20]]))"
   ]
  },
  {
   "cell_type": "code",
   "execution_count": 144,
   "metadata": {},
   "outputs": [
    {
     "name": "stdout",
     "output_type": "stream",
     "text": [
      "70000\n"
     ]
    }
   ],
   "source": [
    "posi, nega = [], []\n",
    "c = 0\n",
    "for d in dataset:\n",
    "    words = ''.join([c for c in d['reviewText'] if c not in string.punctuation])\n",
    "    words = words.replace('\\n', '')\n",
    "\n",
    "    for w in words.split():\n",
    "        if w in positive_bank:\n",
    "            posi.append(w)\n",
    "\n",
    "    for w in words.split():\n",
    "        if w in negative_bank:\n",
    "            nega.append(w)\n",
    "      \n",
    "    c +=1\n",
    "    if c%100 == 0:\n",
    "        clear_output(wait=True)\n",
    "        print(c)"
   ]
  },
  {
   "cell_type": "code",
   "execution_count": 149,
   "metadata": {},
   "outputs": [],
   "source": [
    "f = open('postive_list.txt', 'w')\n",
    "f.write(', '.join(posi))\n",
    "f.close()"
   ]
  },
  {
   "cell_type": "code",
   "execution_count": 164,
   "metadata": {},
   "outputs": [],
   "source": [
    "pn, parsed_text = [], []\n",
    "for d in dataset:\n",
    "    words = ''.join([c for c in d['reviewText'] if c not in string.punctuation])\n",
    "    words = words.replace('\\n', '')\n",
    "    if d['overall'] >= 4:\n",
    "        pn.append('positive')\n",
    "    else:\n",
    "        pn.append('negative')\n",
    "    parsed_text.append(str(words.split()))\n",
    "    \n",
    "f1 = open('pn.txt', 'w')\n",
    "f2 = open('parse_text.txt', 'w')\n",
    "for i in range(len(pn)):\n",
    "    f1.write(pn[i] + '\\n')\n",
    "    f2.write(str(parsed_text[i]) + '\\n')\n",
    "f1.close()\n",
    "f2.close()"
   ]
  },
  {
   "cell_type": "code",
   "execution_count": 163,
   "metadata": {},
   "outputs": [
    {
     "name": "stdout",
     "output_type": "stream",
     "text": [
      "[\"['I', 'have', 'had', 'vocal', 'cord', 'issues', 'for', 'nearly', 'a', 'year', 'and', 'this', 'tea', 'with', 'neck', 'and', 'vocal', 'exercises', 'have', 'worked', 'wonders']\", \"['A', 'great', 'cracker', 'and', 'super', 'snack', 'any', 'time', 'of', 'the', 'day', 'Sometimes', 'I', 'even', 'have', 'for', 'lunch', 'and', 'it', 'fills', 'me', 'up', 'A', 'snack', 'thats', 'totally', 'organic', 'and', 'tastes', 'wonderful']\", \"['This', 'is', 'working', 'OK', 'I', 'really', 'like', 'the', 'Vanilla', 'Extract', 'from', 'Costco', 'that', 'usually', 'costs', 'around', '7', 'but', 'is', 'now', '30', 'So', 'this', 'is', 'a', 'good', 'replacement', 'for', 'the', 'time', 'being']\", \"['Nice', 'but', 'i', 'like', 'the', 'bigger', 'sea', 'salt', 'better', 'thank', 'you']\", \"['great', 'tea']\"]\n"
     ]
    }
   ],
   "source": [
    "print(parsed_text[:5])"
   ]
  },
  {
   "cell_type": "markdown",
   "metadata": {},
   "source": [
    "### Data Preprocessing"
   ]
  },
  {
   "cell_type": "code",
   "execution_count": 82,
   "metadata": {},
   "outputs": [],
   "source": [
    "ori_dataset = dataset"
   ]
  },
  {
   "cell_type": "code",
   "execution_count": 83,
   "metadata": {},
   "outputs": [],
   "source": [
    "shuffle_dataset = ori_dataset\n",
    "random.shuffle(shuffle_dataset)\n"
   ]
  },
  {
   "cell_type": "code",
   "execution_count": 88,
   "metadata": {},
   "outputs": [
    {
     "name": "stdout",
     "output_type": "stream",
     "text": [
      "70000\n",
      "finish store\n"
     ]
    }
   ],
   "source": [
    "# store 70000 sample to txt\n",
    "f = open('final_dataset.txt', 'w')\n",
    "c = 0\n",
    "for d in shuffle_dataset:\n",
    "    f.write(str(d) + '\\n')\n",
    "    c+= 1\n",
    "    if c%100 == 0:\n",
    "        clear_output(wait=True)\n",
    "        print(c)\n",
    "f.close()\n",
    "print('finish store')"
   ]
  },
  {
   "cell_type": "code",
   "execution_count": 30,
   "metadata": {},
   "outputs": [
    {
     "name": "stdout",
     "output_type": "stream",
     "text": [
      "70000\n"
     ]
    }
   ],
   "source": [
    "# load 70000 data from txt file\n",
    "dataset = []\n",
    "c = 0\n",
    "for l in open('final_dataset.txt'):\n",
    "# for l in f.readline():\n",
    "    if len(l) == 0:\n",
    "        print(\"zero\")\n",
    "        break\n",
    "    c +=1\n",
    "    dataset.append(eval(l))\n",
    "    if c%100 == 0:\n",
    "        clear_output(wait=True)\n",
    "        print(c)\n",
    "clear_output(wait=True)\n",
    "print(c)"
   ]
  },
  {
   "cell_type": "code",
   "execution_count": 31,
   "metadata": {},
   "outputs": [],
   "source": [
    "# split data into train, val, test set\n",
    "train_set = dataset[:50000] \n",
    "validation_set = dataset[50000:60000] \n",
    "test_set = dataset[60000:] "
   ]
  },
  {
   "cell_type": "markdown",
   "metadata": {},
   "source": [
    "### Features extraction"
   ]
  },
  {
   "cell_type": "code",
   "execution_count": 33,
   "metadata": {},
   "outputs": [],
   "source": [
    "# top 1000 words for unigram and bigram using train_set\n",
    "unigram = defaultdict(int)\n",
    "bigram = defaultdict(int)\n",
    "\n",
    "for d in train_set:\n",
    "    words = d['reviewText'].replace('\\n', '').strip()\n",
    "    words = ''.join([c for c in words if c not in string.punctuation])\n",
    "    words = words.split()\n",
    "    for i in range(len(words)):\n",
    "        unigram[words[i]] += 1\n",
    "        \n",
    "    for i in range(len(words)-1):\n",
    "        bigram[words[i] + ' ' + words[i+1]] += 1\n",
    "\n",
    "unigram_list = [w for w in sorted(unigram.items(), key = lambda i:i[1], reverse = True)]\n",
    "bigram_list = [w for w in sorted(bigram.items(), key = lambda i:i[1], reverse = True)]\n",
    "\n",
    "unigram_top_words = [w[0] for w in unigram_list[:1000]]\n",
    "bigram_top_words = [w[0] for w in bigram_list[:1000]]\n",
    "\n",
    "unigram_top_wordsId = dict(zip(unigram_top_words, range(len(unigram_top_words))))\n",
    "bigram_top_wordsId = dict(zip(bigram_top_words, range(len(bigram_top_words))))"
   ]
  },
  {
   "cell_type": "code",
   "execution_count": 167,
   "metadata": {},
   "outputs": [
    {
     "name": "stdout",
     "output_type": "stream",
     "text": [
      "['I', 'the', 'and', 'a', 'to', 'it', 'is', 'of', 'this', 'for', 'in', 'tea', 'my', 'with', 'but', 'that', 'have', 'good', 'you', 'not', 'as', 'like', 'are', 'on', 'was', 'great', 'taste', 'so', 'flavor', 'This', 'or', 'love', 'The', 'these', 'them', 'very', 'be', 'just', 'It', 'product', 'use', 'they', 'at', 'one', 'all', 'me', 'can', 'more', 'its', 'will', 'has', 'from', 'than', 'Great', 'price', 'when', 'make', 'really', 'buy', 'if', 'much', 'get', 'other', 'some', 'out', 'had', 'time', 'too', 'dont', 'would', 'little', 'best', 'no', 'up', 'better', 'find', 'an', 'My', 'favorite', 'again', 'am', 'Its', 'about', 'only', 'Im', 'sugar', 'well', 'Ive', 'your', 'because', 'used', 'do', 'what', 'coffee', 'been', 'also', 'were', 'which', 'salt', 'nice']\n"
     ]
    }
   ],
   "source": [
    "print(unigram_top_words[:100])"
   ]
  },
  {
   "cell_type": "code",
   "execution_count": null,
   "metadata": {},
   "outputs": [],
   "source": [
    "# top 1000 words for unigram and bigram using val_set\n",
    "# unigram_val = defaultdict(int)\n",
    "# bigram_val = defaultdict(int)\n",
    "# for d in val_set:\n",
    "#     words = d['reviewText'].replace('\\n', '').strip()\n",
    "#     words = ''.join([c for c in words if c not in string.punctuation])\n",
    "#     words = words.split()\n",
    "#     for i in range(len(words)):\n",
    "#         unigram_val[words[i]] += 1\n",
    "        \n",
    "#     for i in range(len(words)-1):\n",
    "#         bigram_val[words[i] + ' ' + words[i+1]] += 1\n",
    "\n",
    "# unigram_val_list = [w for w in sorted(unigram_val.items(), key = lambda i:i[1], reverse = True)]\n",
    "# bigram_val_list = [w for w in sorted(bigram_val.items(), key = lambda i:i[1], reverse = True)]\n",
    "\n",
    "# unigram_val_top_words = [w[0] for w in unigram_val_list[:1000]]\n",
    "# bigram_val_top_words = [w[0] for w in bigram_val_list[:1000]]\n",
    "\n",
    "# unigram_top_wordsId = dict(zip(unigram_top_words, range(len(unigram_top_words))))\n",
    "# bigram_top_wordsId = dict(zip(bigram_top_words, range(len(bigram_top_words))))"
   ]
  },
  {
   "cell_type": "code",
   "execution_count": 34,
   "metadata": {},
   "outputs": [],
   "source": [
    "# calculate idf\n",
    "unigram_idf = [math.log(100000/x[1], 10) for x in unigram_list[:1000]]\n",
    "bigram_idf = [math.log(100000/x[1], 10) for x in bigram_list[:1000]]"
   ]
  },
  {
   "cell_type": "markdown",
   "metadata": {},
   "source": [
    "#### Training set"
   ]
  },
  {
   "cell_type": "code",
   "execution_count": 169,
   "metadata": {},
   "outputs": [
    {
     "name": "stdout",
     "output_type": "stream",
     "text": [
      "Processing progress: 50000 /50000\n"
     ]
    }
   ],
   "source": [
    "# data preprocessing # extract feature \n",
    "#train_set #unigram #bigram\n",
    "\n",
    "X_train_uni, y_train = [], []\n",
    "X_train_bi = []\n",
    "\n",
    "c = 0\n",
    "for d in train_set:\n",
    "    c += 1\n",
    "    #unigram\n",
    "    feat = []\n",
    "    for w in unigram_top_words:\n",
    "        feat.append(d['reviewText'].count(w))\n",
    "    feat.append(1)\n",
    "    X_train_uni.append(feat)\n",
    "    y_train.append(d['overall'])\n",
    "    \n",
    "    #bigram\n",
    "    feat = []\n",
    "    for w in bigram_top_words:\n",
    "        line = d['reviewText'].replace('\\n', '')\n",
    "#         line = ''.join([c for c in line if c not in string.punctuation])\n",
    "        for p in string.punctuation:\n",
    "            line = line.replace(p, '')\n",
    "        feat.append(line.count(w))\n",
    "    feat.append(1)\n",
    "    X_train_bi.append(feat)\n",
    "    \n",
    "    if c % 10 == 0:\n",
    "        clear_output(wait=True)\n",
    "        print(\"Processing progress:\", c ,\"/50000\")\n"
   ]
  },
  {
   "cell_type": "code",
   "execution_count": 170,
   "metadata": {},
   "outputs": [],
   "source": [
    "#store training set to .txt file \n",
    "# f = open('train_wordbag.txt','w')\n",
    "# f.write(str(X_train_uni) + '\\n')\n",
    "# f.write(str(X_train_bi) + '\\n')\n",
    "# f.write(str(y_train) + '\\n')\n",
    "# f.close()"
   ]
  },
  {
   "cell_type": "code",
   "execution_count": 3,
   "metadata": {},
   "outputs": [],
   "source": [
    "# load data from .txt file\n",
    "import json\n",
    "# f = open('train_wordbag.txt','r')\n",
    "# X_train_uni = json.loads(f.readline())\n",
    "# X_train_bi = json.loads(f.readline())\n",
    "# y_train = json.loads(f.readline())\n",
    "# f.close()\n"
   ]
  },
  {
   "cell_type": "code",
   "execution_count": 172,
   "metadata": {},
   "outputs": [
    {
     "name": "stdout",
     "output_type": "stream",
     "text": [
      "Processing progress: 50000 /50000\n"
     ]
    }
   ],
   "source": [
    "# data preprocessing \n",
    "# calculate tfidf for train_set\n",
    "X_train_uni_tfidf, X_train_bi_tfidf = [], []\n",
    "c = 0\n",
    "for d in train_set:\n",
    "    c += 1\n",
    "    feat = []\n",
    "    for i in range(len(unigram_top_words)):\n",
    "        tfidf = d['reviewText'].count(unigram_top_words[i]) * unigram_idf[i]\n",
    "        feat.append(tfidf)\n",
    "    feat.append(1)\n",
    "    X_train_uni_tfidf.append(feat)\n",
    "    \n",
    "    #bigram\n",
    "    feat = []\n",
    "    for i in range(len(bigram_top_words)):\n",
    "        line = d['reviewText'].replace('\\n', '')\n",
    "        for p in string.punctuation:\n",
    "            line = line.replace(p, '')\n",
    "        tfidf = line.count(bigram_top_words[i]) * bigram_idf[i]\n",
    "        feat.append(tfidf)\n",
    "    feat.append(1)\n",
    "    X_train_bi_tfidf.append(feat)\n",
    "    \n",
    "    if c % 10 == 0:\n",
    "        clear_output(wait=True)\n",
    "        print(\"Processing progress:\", c ,\"/50000\")\n",
    "\n"
   ]
  },
  {
   "cell_type": "code",
   "execution_count": 173,
   "metadata": {},
   "outputs": [
    {
     "name": "stdout",
     "output_type": "stream",
     "text": [
      "finish storing...\n"
     ]
    }
   ],
   "source": [
    "#store training set feature to txt file \n",
    "#bigram #unigram #tfidf\n",
    "f = open('train_wordbag.txt','w')\n",
    "f.write(str(X_train_uni) + '\\n')\n",
    "f.write(str(X_train_bi) + '\\n')\n",
    "f.write(str(y_train) + '\\n')\n",
    "f.close()\n",
    "\n",
    "f = open('train_tfidf.txt','w')\n",
    "f.write(str(X_train_uni_tfidf) + '\\n')\n",
    "f.write(str(X_train_bi_tfidf) + '\\n')\n",
    "f.write(str(y_train) + '\\n')\n",
    "f.close()\n",
    "print(\"finish storing...\")"
   ]
  },
  {
   "cell_type": "code",
   "execution_count": 19,
   "metadata": {},
   "outputs": [],
   "source": [
    "f = open('train_wordbag.txt','r')\n",
    "X_train_uni = json.loads(f.readline())\n",
    "X_train_bi = json.loads(f.readline())\n",
    "y_train = json.loads(f.readline())\n",
    "f.close()\n",
    "\n",
    "f = open('train_tfidf.txt','r')\n",
    "X_train_uni_tfidf = json.loads(f.readline())\n",
    "X_train_bi_tfidf = json.loads(f.readline())\n",
    "f.close()"
   ]
  },
  {
   "cell_type": "markdown",
   "metadata": {},
   "source": [
    "#### Normalize training set"
   ]
  },
  {
   "cell_type": "code",
   "execution_count": 20,
   "metadata": {},
   "outputs": [],
   "source": [
    "X_train_uni = np.array(X_train_uni)\n",
    "X_train_bi = np.array(X_train_bi)\n",
    "y_train = np.array(y_train )\n",
    "X_train_uni_tfidf = np.array(X_train_uni_tfidf)\n",
    "X_train_bi_tfidf = np.array(X_train_bi_tfidf)\n",
    "\n",
    "X_train_uni = sklearn.preprocessing.normalize(X_train_uni)\n",
    "X_train_bi = sklearn.preprocessing.normalize(X_train_bi)\n",
    "X_train_uni_tfidf = sklearn.preprocessing.normalize(X_train_uni_tfidf)\n",
    "X_train_bi_tfidf = sklearn.preprocessing.normalize(X_train_bi_tfidf)"
   ]
  },
  {
   "cell_type": "markdown",
   "metadata": {},
   "source": [
    "#### Validation set"
   ]
  },
  {
   "cell_type": "code",
   "execution_count": 35,
   "metadata": {},
   "outputs": [
    {
     "name": "stdout",
     "output_type": "stream",
     "text": [
      "Processing progress: 10000 /10000\n"
     ]
    }
   ],
   "source": [
    "# data preprocessing \n",
    "# extract feature for validation set\n",
    "# unigram #bigram\n",
    "X_val_uni, y_val = [], []\n",
    "X_val_bi = []\n",
    "\n",
    "c = 0\n",
    "for d in validation_set:\n",
    "    c += 1\n",
    "    #unigram\n",
    "    feat = []\n",
    "    for w in unigram_top_words:\n",
    "        feat.append(d['reviewText'].count(w))\n",
    "    feat.append(1)\n",
    "    X_val_uni.append(feat)\n",
    "    y_val.append(d['overall'])\n",
    "    \n",
    "    #bigram\n",
    "    feat = []\n",
    "    for w in bigram_top_words:\n",
    "        line = d['reviewText'].replace('\\n', '')\n",
    "        for p in string.punctuation:\n",
    "            line = line.replace(p, '')\n",
    "        feat.append(line.count(w))\n",
    "    feat.append(1)\n",
    "    X_val_bi.append(feat)\n",
    "    \n",
    "    if c % 10 == 0:\n",
    "        clear_output(wait=True)\n",
    "        print(\"Processing progress:\", c ,\"/10000\")"
   ]
  },
  {
   "cell_type": "code",
   "execution_count": 36,
   "metadata": {},
   "outputs": [
    {
     "name": "stdout",
     "output_type": "stream",
     "text": [
      "Processing progress: 10000 /10000\n"
     ]
    }
   ],
   "source": [
    "# data preprocessing \n",
    "# calculate tfidf for val_set\n",
    "X_val_uni_tfidf, X_val_bi_tfidf = [], []\n",
    "c = 0\n",
    "for d in validation_set:\n",
    "    c += 1\n",
    "    feat = []\n",
    "    for i in range(len(unigram_top_words)):\n",
    "        tfidf = d['reviewText'].count(unigram_top_words[i]) * unigram_idf[i]\n",
    "        feat.append(tfidf)\n",
    "    feat.append(1)\n",
    "    X_val_uni_tfidf.append(feat)\n",
    "    \n",
    "    #bigram\n",
    "    feat = []\n",
    "    for i in range(len(bigram_top_words)):\n",
    "        line = d['reviewText'].replace('\\n', '')\n",
    "        for p in string.punctuation:\n",
    "            line = line.replace(p, '')\n",
    "        tfidf = line.count(bigram_top_words[i]) * bigram_idf[i]\n",
    "        feat.append(tfidf)\n",
    "    feat.append(1)\n",
    "    X_val_bi_tfidf.append(feat)\n",
    "    \n",
    "    if c % 10 == 0:\n",
    "        clear_output(wait=True)\n",
    "        print(\"Processing progress:\", c ,\"/10000\")\n",
    "\n"
   ]
  },
  {
   "cell_type": "code",
   "execution_count": 37,
   "metadata": {},
   "outputs": [],
   "source": [
    "# store validation set feature to txt file \n",
    "f = open('val_wordbag.txt','w')\n",
    "f.write(str(X_val_uni) + '\\n')\n",
    "f.write(str(X_val_bi) + '\\n')\n",
    "f.write(str(y_val) + '\\n')\n",
    "f.close()\n",
    "\n",
    "f = open('val_tfidf.txt','w')\n",
    "f.write(str(X_val_uni_tfidf) + '\\n')\n",
    "f.write(str(X_val_bi_tfidf) + '\\n')\n",
    "f.write(str(y_val) + '\\n')\n",
    "f.close()"
   ]
  },
  {
   "cell_type": "code",
   "execution_count": 40,
   "metadata": {},
   "outputs": [],
   "source": [
    "# load\n",
    "f = open('val_wordbag.txt','r')\n",
    "X_val_uni = json.loads(f.readline())\n",
    "X_val_bi = json.loads(f.readline())\n",
    "y_val = json.loads(f.readline())\n",
    "f.close()\n",
    "\n",
    "f = open('val_tfidf.txt','r')\n",
    "X_val_uni_tfidf = json.loads(f.readline())\n",
    "X_val_bi_tfidf = json.loads(f.readline())\n",
    "f.close()"
   ]
  },
  {
   "cell_type": "markdown",
   "metadata": {},
   "source": [
    "#### Normalization"
   ]
  },
  {
   "cell_type": "code",
   "execution_count": 41,
   "metadata": {},
   "outputs": [],
   "source": [
    "X_val_uni = np.array(X_val_uni)\n",
    "X_val_bi = np.array(X_val_bi)\n",
    "y_val = np.array(y_val)\n",
    "X_val_uni_tfidf = np.array(X_val_uni_tfidf)\n",
    "X_val_bi_tfidf = np.array(X_val_bi_tfidf)\n",
    "\n",
    "X_val_uni = sklearn.preprocessing.normalize(X_val_uni)\n",
    "X_val_bi = sklearn.preprocessing.normalize(X_val_bi)\n",
    "X_val_uni_tfidf = sklearn.preprocessing.normalize(X_val_uni_tfidf)\n",
    "X_val_bi_tfidf = sklearn.preprocessing.normalize(X_val_bi_tfidf)"
   ]
  },
  {
   "cell_type": "markdown",
   "metadata": {},
   "source": [
    "#### Extract features from test set"
   ]
  },
  {
   "cell_type": "code",
   "execution_count": 190,
   "metadata": {},
   "outputs": [
    {
     "name": "stdout",
     "output_type": "stream",
     "text": [
      "Processing progress: 10000 /10000\n"
     ]
    }
   ],
   "source": [
    "X_test_uni, X_test_bi = [], []\n",
    "X_test_uni_tfidf, X_test_bi_tfidf = [], []\n",
    "y_test = []\n",
    "\n",
    "c = 0\n",
    "for d in test_set:\n",
    "    c += 1\n",
    "    #unigram_wordbag\n",
    "    feat = []\n",
    "    for w in unigram_top_words:\n",
    "        feat.append(d['reviewText'].count(w))\n",
    "    feat.append(1)\n",
    "    X_test_uni.append(feat)\n",
    "    y_test.append(d['overall'])\n",
    "    \n",
    "    #bigram_wordbag\n",
    "    feat = []\n",
    "    for w in bigram_top_words:\n",
    "        line = d['reviewText'].replace('\\n', '')\n",
    "        for p in string.punctuation:\n",
    "            line = line.replace(p, '')\n",
    "        feat.append(line.count(w))\n",
    "    feat.append(1)\n",
    "    X_test_bi.append(feat)\n",
    "    \n",
    "    #unigram_tfidf\n",
    "    feat = []\n",
    "    for i in range(len(unigram_top_words)):\n",
    "        tfidf = d['reviewText'].count(unigram_top_words[i]) * unigram_idf[i]\n",
    "        feat.append(tfidf)\n",
    "    feat.append(1)\n",
    "    X_test_uni_tfidf.append(feat)\n",
    "    \n",
    "    #bigram_tfidf\n",
    "    feat = []\n",
    "    for i in range(len(bigram_top_words)):\n",
    "        line = d['reviewText'].replace('\\n', '')\n",
    "        for p in string.punctuation:\n",
    "            line = line.replace(p, '')\n",
    "        tfidf = line.count(bigram_top_words[i]) * bigram_idf[i]\n",
    "        feat.append(tfidf)\n",
    "    feat.append(1)\n",
    "    X_test_bi_tfidf.append(feat)\n",
    "    \n",
    "    if c % 10 == 0:\n",
    "        clear_output(wait=True)\n",
    "        print(\"Processing progress:\", c ,\"/10000\")"
   ]
  },
  {
   "cell_type": "code",
   "execution_count": 191,
   "metadata": {},
   "outputs": [],
   "source": [
    "#store test set to .txt\n",
    "f = open('test_wordbag.txt','w')\n",
    "f.write(str(X_test_uni) + '\\n')\n",
    "f.write(str(X_test_bi) + '\\n')\n",
    "f.write(str(y_test) + '\\n')\n",
    "f.close()\n",
    "\n",
    "f = open('test_tfidf.txt','w')\n",
    "f.write(str(X_test_uni_tfidf) + '\\n')\n",
    "f.write(str(X_test_bi_tfidf) + '\\n')\n",
    "f.write(str(y_test) + '\\n')\n",
    "f.close()"
   ]
  },
  {
   "cell_type": "code",
   "execution_count": 15,
   "metadata": {},
   "outputs": [],
   "source": [
    "# load test set from .txt\n",
    "f = open('test_wordbag.txt','r')\n",
    "X_test_uni = json.loads(f.readline())\n",
    "X_test_bi = json.loads(f.readline())\n",
    "y_test = json.loads(f.readline())\n",
    "f.close()\n",
    "\n",
    "f = open('test_tfidf.txt','r')\n",
    "X_test_uni_tfidf = json.loads(f.readline())\n",
    "X_test_bi_tfidf = json.loads(f.readline())\n",
    "# y_test = json.loads(f.readline())\n",
    "f.close()"
   ]
  },
  {
   "cell_type": "markdown",
   "metadata": {},
   "source": [
    "#### Normalize test set"
   ]
  },
  {
   "cell_type": "code",
   "execution_count": 16,
   "metadata": {},
   "outputs": [],
   "source": [
    "X_test_uni = np.array(X_test_uni)\n",
    "X_test_bi = np.array(X_test_bi)\n",
    "y_test = np.array(y_test)\n",
    "\n",
    "X_test_uni_tfidf = np.array(X_test_uni_tfidf)\n",
    "X_test_bi_tfidf = np.array(X_test_bi_tfidf )\n",
    "\n",
    "X_test_uni = sklearn.preprocessing.normalize(X_test_uni)\n",
    "X_test_bi = sklearn.preprocessing.normalize(X_test_bi)\n",
    "X_test_uni_tfidf = sklearn.preprocessing.normalize(X_test_uni_tfidf)\n",
    "X_test_bi_tfidf = sklearn.preprocessing.normalize(X_test_bi_tfidf)"
   ]
  },
  {
   "cell_type": "markdown",
   "metadata": {},
   "source": [
    "#### Evaluation Method"
   ]
  },
  {
   "cell_type": "code",
   "execution_count": 10,
   "metadata": {},
   "outputs": [],
   "source": [
    "# accuracy\n",
    "def accuracy(y_pred, y):\n",
    "    return sum([True for i in range(len(y)) if y_pred[i] == y[i]])/len(y)"
   ]
  },
  {
   "cell_type": "code",
   "execution_count": null,
   "metadata": {},
   "outputs": [],
   "source": [
    "#confusion matrix"
   ]
  },
  {
   "cell_type": "markdown",
   "metadata": {},
   "source": [
    "## MODEL"
   ]
  },
  {
   "cell_type": "markdown",
   "metadata": {},
   "source": [
    "### 1. KNN"
   ]
  },
  {
   "cell_type": "markdown",
   "metadata": {},
   "source": [
    "#### 1.1 KNN/unigram/word bag"
   ]
  },
  {
   "cell_type": "code",
   "execution_count": 23,
   "metadata": {},
   "outputs": [],
   "source": [
    "# training\n",
    "knn_uni = KNeighborsClassifier(n_neighbors=5)\n",
    "knn_uni_classifier = knn_uni.fit(X_train_uni, y_train)"
   ]
  },
  {
   "cell_type": "code",
   "execution_count": 94,
   "metadata": {},
   "outputs": [
    {
     "name": "stdout",
     "output_type": "stream",
     "text": [
      "0.78586\n"
     ]
    }
   ],
   "source": [
    "y_pred = knn_uni.predict(X_train_uni)\n",
    "print(accuracy(y_pred, y_train))"
   ]
  },
  {
   "cell_type": "code",
   "execution_count": 200,
   "metadata": {},
   "outputs": [
    {
     "name": "stdout",
     "output_type": "stream",
     "text": [
      "0.7264\n"
     ]
    }
   ],
   "source": [
    "# validation\n",
    "y_pred = knn_uni.predict(X_val_uni)\n",
    "print(accuracy(y_pred, y_val))"
   ]
  },
  {
   "cell_type": "code",
   "execution_count": 24,
   "metadata": {},
   "outputs": [
    {
     "name": "stdout",
     "output_type": "stream",
     "text": [
      "0.7138\n"
     ]
    }
   ],
   "source": [
    "# testing # accuracy\n",
    "y_pred = knn_uni.predict(X_test_uni)\n",
    "print(accuracy(y_pred, y_test))"
   ]
  },
  {
   "cell_type": "code",
   "execution_count": 26,
   "metadata": {},
   "outputs": [
    {
     "data": {
      "image/png": "[encoded data removed]",
      "text/plain": [
       "<Figure size 432x288 with 2 Axes>"
      ]
     },
     "metadata": {
      "needs_background": "light"
     },
     "output_type": "display_data"
    }
   ],
   "source": [
    "# confusion matrix\n",
    "disp = plot_confusion_matrix(knn_uni_classifier, X_test_uni, y_test,\n",
    "                             cmap=plt.cm.Blues,\n",
    "                             normalize = 'true')\n",
    "plt.title('KNN/unigram/word bag')\n",
    "plt.show()"
   ]
  },
  {
   "cell_type": "markdown",
   "metadata": {},
   "source": [
    "#### 1.2 KNN/bigram/word bag"
   ]
  },
  {
   "cell_type": "code",
   "execution_count": 42,
   "metadata": {},
   "outputs": [
    {
     "name": "stdout",
     "output_type": "stream",
     "text": [
      "start training\n"
     ]
    }
   ],
   "source": [
    "# training\n",
    "print(\"start training\")\n",
    "knn_bi = KNeighborsClassifier(n_neighbors=5)\n",
    "knn_bi_classifier = knn_bi.fit(X_train_bi, y_train)"
   ]
  },
  {
   "cell_type": "code",
   "execution_count": 93,
   "metadata": {},
   "outputs": [
    {
     "name": "stdout",
     "output_type": "stream",
     "text": [
      "0.78286\n"
     ]
    }
   ],
   "source": [
    "y_pred = knn_bi.predict(X_train_bi)\n",
    "print(accuracy(y_pred, y_train))"
   ]
  },
  {
   "cell_type": "code",
   "execution_count": 43,
   "metadata": {},
   "outputs": [
    {
     "name": "stdout",
     "output_type": "stream",
     "text": [
      "start validating\n",
      "0.7302\n"
     ]
    }
   ],
   "source": [
    "# validation\n",
    "print(\"start validating\")\n",
    "y_pred = knn_bi.predict(X_val_bi)\n",
    "print(accuracy(y_pred, y_val))"
   ]
  },
  {
   "cell_type": "code",
   "execution_count": 44,
   "metadata": {},
   "outputs": [
    {
     "name": "stdout",
     "output_type": "stream",
     "text": [
      "0.7013\n"
     ]
    }
   ],
   "source": [
    "# testing\n",
    "y_pred = knn_uni.predict(X_test_bi)\n",
    "print(accuracy(y_pred, y_test))"
   ]
  },
  {
   "cell_type": "code",
   "execution_count": 45,
   "metadata": {},
   "outputs": [
    {
     "data": {
      "image/png": "[encoded data removed]",
      "text/plain": [
       "<Figure size 432x288 with 2 Axes>"
      ]
     },
     "metadata": {
      "needs_background": "light"
     },
     "output_type": "display_data"
    }
   ],
   "source": [
    "#confusion matriix\n",
    "disp = plot_confusion_matrix(knn_bi_classifier, X_test_bi, y_test, \n",
    "                             cmap=plt.cm.Blues,\n",
    "                             normalize = 'true')\n",
    "plt.title('KNN/bigram/word bag')\n",
    "plt.show()"
   ]
  },
  {
   "cell_type": "markdown",
   "metadata": {},
   "source": [
    "#### 1.3 KNN/unigram/tfidf"
   ]
  },
  {
   "cell_type": "code",
   "execution_count": 46,
   "metadata": {},
   "outputs": [],
   "source": [
    " #training\n",
    "knn_uni_tfidf = KNeighborsClassifier(n_neighbors=5)\n",
    "knn_uni_tfidf_classifier = knn_uni_tfidf.fit(X_train_uni_tfidf, y_train)"
   ]
  },
  {
   "cell_type": "code",
   "execution_count": null,
   "metadata": {},
   "outputs": [],
   "source": [
    "y_pred = knn_uni_tfidf.predict(X_train_uni_tfidf)\n",
    "print(accuracy(y_pred, y_train))"
   ]
  },
  {
   "cell_type": "code",
   "execution_count": 47,
   "metadata": {},
   "outputs": [
    {
     "name": "stdout",
     "output_type": "stream",
     "text": [
      "0.724\n"
     ]
    }
   ],
   "source": [
    "# validation\n",
    "y_pred = knn_uni_tfidf.predict(X_val_uni_tfidf)\n",
    "print(accuracy(y_pred, y_val))"
   ]
  },
  {
   "cell_type": "code",
   "execution_count": 48,
   "metadata": {},
   "outputs": [
    {
     "name": "stdout",
     "output_type": "stream",
     "text": [
      "0.72\n"
     ]
    }
   ],
   "source": [
    "# testing\n",
    "y_pred = knn_uni.predict(X_test_uni_tfidf)\n",
    "print(accuracy(y_pred, y_test))"
   ]
  },
  {
   "cell_type": "code",
   "execution_count": 49,
   "metadata": {},
   "outputs": [
    {
     "data": {
      "image/png": "[encoded data removed]",
      "text/plain": [
       "<Figure size 432x288 with 2 Axes>"
      ]
     },
     "metadata": {
      "needs_background": "light"
     },
     "output_type": "display_data"
    }
   ],
   "source": [
    "disp = plot_confusion_matrix(knn_uni_tfidf_classifier, X_test_uni_tfidf, y_test, \n",
    "                             cmap=plt.cm.Blues, \n",
    "                             normalize = 'true')\n",
    "plt.title('KNN/unigram/TFIDF')\n",
    "plt.show()"
   ]
  },
  {
   "cell_type": "markdown",
   "metadata": {},
   "source": [
    "#### 1.4 KNN/bigram/tfidf"
   ]
  },
  {
   "cell_type": "code",
   "execution_count": 50,
   "metadata": {},
   "outputs": [],
   "source": [
    "# training\n",
    "knn_bi_tfidf = KNeighborsClassifier(n_neighbors=5)\n",
    "knn_bi_tfidf_classifier = knn_bi_tfidf.fit(X_train_bi_tfidf, y_train)"
   ]
  },
  {
   "cell_type": "code",
   "execution_count": 92,
   "metadata": {},
   "outputs": [
    {
     "name": "stdout",
     "output_type": "stream",
     "text": [
      "0.78318\n"
     ]
    }
   ],
   "source": [
    "y_pred = knn_bi_tfidf.predict(X_train_bi_tfidf)\n",
    "print(accuracy(y_pred, y_train))"
   ]
  },
  {
   "cell_type": "code",
   "execution_count": 51,
   "metadata": {},
   "outputs": [
    {
     "name": "stdout",
     "output_type": "stream",
     "text": [
      "0.7302\n"
     ]
    }
   ],
   "source": [
    "# validation\n",
    "y_pred = knn_bi_tfidf.predict(X_val_bi_tfidf)\n",
    "print(accuracy(y_pred, y_val))"
   ]
  },
  {
   "cell_type": "code",
   "execution_count": 52,
   "metadata": {},
   "outputs": [
    {
     "name": "stdout",
     "output_type": "stream",
     "text": [
      "0.6788\n"
     ]
    }
   ],
   "source": [
    "# testing and accuracy\n",
    "y_pred = knn_uni.predict(X_test_bi_tfidf)\n",
    "print(accuracy(y_pred, y_test))"
   ]
  },
  {
   "cell_type": "code",
   "execution_count": 91,
   "metadata": {},
   "outputs": [
    {
     "data": {
      "image/png": "[encoded data removed]",
      "text/plain": [
       "<Figure size 432x288 with 2 Axes>"
      ]
     },
     "metadata": {
      "needs_background": "light"
     },
     "output_type": "display_data"
    }
   ],
   "source": [
    "# confusion matrix\n",
    "disp = plot_confusion_matrix(knn_bi_tfidf_classifier, X_test_bi_tfidf, y_test, \n",
    "                             cmap=plt.cm.Blues,\n",
    "                             normalize = 'true')\n",
    "plt.title('KNN/bigram/TFIDF')\n",
    "plt.show()"
   ]
  },
  {
   "cell_type": "markdown",
   "metadata": {},
   "source": [
    "### 2. Logistic Regress"
   ]
  },
  {
   "cell_type": "markdown",
   "metadata": {},
   "source": [
    "#### 2.1 Logistic Regression/unigram/word bag"
   ]
  },
  {
   "cell_type": "code",
   "execution_count": 64,
   "metadata": {},
   "outputs": [
    {
     "name": "stdout",
     "output_type": "stream",
     "text": [
      "0.79002\n"
     ]
    }
   ],
   "source": [
    "# training \n",
    "lr_uni = LogisticRegression(C=100, max_iter=2000)\n",
    "clf_uni = lr_uni.fit(X_train_uni, y_train)\n",
    "y_train_pred = lr_uni.predict(X_train_uni)\n",
    "print(accuracy(y_train_pred, y_train))"
   ]
  },
  {
   "cell_type": "code",
   "execution_count": 65,
   "metadata": {},
   "outputs": [
    {
     "name": "stdout",
     "output_type": "stream",
     "text": [
      "0.7776\n"
     ]
    }
   ],
   "source": [
    "# validation\n",
    "# c=100 0.6983 solver = 'saga'\n",
    "# c=1 0.6983 solver = 'saga'\n",
    "# c=100 0.7106\n",
    "# c = 100 0.7154 max_iter=200\n",
    "# c = 100 0.7169 max_iter=500\n",
    "# c = 10 0.7188 nax_iter= 800\n",
    "# c = 10 nax_iter= 1000 0.74232 .7193 0.7264\n",
    "\n",
    "y_val_pred = lr_uni.predict(X_val_uni)\n",
    "print(accuracy(y_val_pred, y_val))"
   ]
  },
  {
   "cell_type": "code",
   "execution_count": 66,
   "metadata": {},
   "outputs": [
    {
     "name": "stdout",
     "output_type": "stream",
     "text": [
      "0.7773\n"
     ]
    }
   ],
   "source": [
    "# testing\n",
    "y_test_pred = lr_uni.predict(X_test_uni)\n",
    "print(accuracy(y_test_pred, y_test))"
   ]
  },
  {
   "cell_type": "code",
   "execution_count": 67,
   "metadata": {},
   "outputs": [
    {
     "data": {
      "image/png": "[encoded data removed]",
      "text/plain": [
       "<Figure size 432x288 with 2 Axes>"
      ]
     },
     "metadata": {
      "needs_background": "light"
     },
     "output_type": "display_data"
    }
   ],
   "source": [
    "# confusion matrix\n",
    "disp = plot_confusion_matrix(clf_uni, X_test_uni, y_test, \n",
    "                             cmap=plt.cm.Blues,\n",
    "                             normalize = 'true')\n",
    "plt.title('Logistic Regression/unigram/word bag')\n",
    "plt.show()"
   ]
  },
  {
   "cell_type": "markdown",
   "metadata": {},
   "source": [
    "#### 2.2Logistic Regression/bigram/word bag"
   ]
  },
  {
   "cell_type": "code",
   "execution_count": 68,
   "metadata": {},
   "outputs": [
    {
     "name": "stdout",
     "output_type": "stream",
     "text": [
      "0.78184\n"
     ]
    }
   ],
   "source": [
    "# training\n",
    "lr_bi = LogisticRegression(C=100, max_iter=2000)\n",
    "clf_bi = lr_bi.fit(X_train_bi, y_train)\n",
    "y_train_pred = clf_bi.predict(X_train_bi)\n",
    "print(accuracy(y_train_pred, y_train))"
   ]
  },
  {
   "cell_type": "code",
   "execution_count": 69,
   "metadata": {},
   "outputs": [
    {
     "name": "stdout",
     "output_type": "stream",
     "text": [
      "0.766\n"
     ]
    }
   ],
   "source": [
    "# validation\n",
    "# c = 10 max_iter = 1000 0.72616 0.7021 0.7042\n",
    "# C = 1  max_iter = 1000 0.72636 0.7017 0.7036\n",
    "# C = 0.1 max_iter = 1000 0.72034 0.707 0.7055\n",
    "y_val_pred = lr_bi.predict(X_val_bi)\n",
    "print(accuracy(y_val_pred , y_val))"
   ]
  },
  {
   "cell_type": "code",
   "execution_count": 71,
   "metadata": {},
   "outputs": [
    {
     "name": "stdout",
     "output_type": "stream",
     "text": [
      "0.7667\n"
     ]
    }
   ],
   "source": [
    "# testing\n",
    "y_test_pred = lr_bi.predict(X_test_bi)\n",
    "print(accuracy(y_test_pred, y_test))"
   ]
  },
  {
   "cell_type": "code",
   "execution_count": 72,
   "metadata": {},
   "outputs": [
    {
     "data": {
      "image/png": "[encoded data removed]",
      "text/plain": [
       "<Figure size 432x288 with 2 Axes>"
      ]
     },
     "metadata": {
      "needs_background": "light"
     },
     "output_type": "display_data"
    }
   ],
   "source": [
    "# confusion matrix\n",
    "disp = plot_confusion_matrix(clf_bi, X_test_bi, y_test, \n",
    "                             cmap=plt.cm.Blues,\n",
    "                             normalize = 'true')\n",
    "plt.title('Logistic Regression/bigram/word bag')\n",
    "plt.show()"
   ]
  },
  {
   "cell_type": "markdown",
   "metadata": {},
   "source": [
    "#### 2.3 Logistic Regression/unigram/TFIDF"
   ]
  },
  {
   "cell_type": "code",
   "execution_count": 87,
   "metadata": {},
   "outputs": [
    {
     "name": "stdout",
     "output_type": "stream",
     "text": [
      "0.79342\n"
     ]
    }
   ],
   "source": [
    "# training\n",
    "lr_uni_tfidf = LogisticRegression(C=100, max_iter=2000)\n",
    "clf_uni_tfidf = lr_uni_tfidf.fit(X_train_uni_tfidf, y_train)\n",
    "y_train_pred = lr_uni_tfidf.predict(X_train_uni_tfidf)\n",
    "print(accuracy(y_train_pred, y_train))"
   ]
  },
  {
   "cell_type": "code",
   "execution_count": 88,
   "metadata": {},
   "outputs": [
    {
     "name": "stdout",
     "output_type": "stream",
     "text": [
      "0.7767\n"
     ]
    }
   ],
   "source": [
    "# validation\n",
    "# c = 10 max_iter = 10000 .74484 0.7163 0.7239\n",
    "# c = 1 max_iter = 1000 0.74488 0.7168 0.7253\n",
    "y_val_pred = lr_uni_tfidf.predict(X_val_uni_tfidf)\n",
    "print(accuracy(y_val_pred, y_val))"
   ]
  },
  {
   "cell_type": "code",
   "execution_count": 89,
   "metadata": {},
   "outputs": [
    {
     "name": "stdout",
     "output_type": "stream",
     "text": [
      "0.7775\n"
     ]
    }
   ],
   "source": [
    "# testing\n",
    "y_test_pred = lr_uni_tfidf.predict(X_test_uni_tfidf)\n",
    "print(accuracy(y_test_pred, y_test))"
   ]
  },
  {
   "cell_type": "code",
   "execution_count": 90,
   "metadata": {},
   "outputs": [
    {
     "data": {
      "image/png": "[encoded data removed]",
      "text/plain": [
       "<Figure size 432x288 with 2 Axes>"
      ]
     },
     "metadata": {
      "needs_background": "light"
     },
     "output_type": "display_data"
    }
   ],
   "source": [
    "# confusion matrix\n",
    "\n",
    "disp = plot_confusion_matrix(clf_uni_tfidf, X_test_uni_tfidf, y_test, \n",
    "                             cmap=plt.cm.Blues,\n",
    "                             normalize = 'true')\n",
    "plt.title('Logistic Regression/unigram/word bag')\n",
    "plt.show()"
   ]
  },
  {
   "cell_type": "markdown",
   "metadata": {},
   "source": [
    "#### 2.4 Logistic Regression/bigram/TFIDF"
   ]
  },
  {
   "cell_type": "code",
   "execution_count": 77,
   "metadata": {},
   "outputs": [
    {
     "name": "stdout",
     "output_type": "stream",
     "text": [
      "0.78114\n"
     ]
    }
   ],
   "source": [
    "# testing\n",
    "lr_bi_tfidf = LogisticRegression(C=100, max_iter=2000)\n",
    "clf_bi_tfidf = lr_bi_tfidf.fit(X_train_bi_tfidf, y_train)\n",
    "y_train_pred = lr_bi_tfidf.predict(X_train_bi_tfidf)\n",
    "print(accuracy(y_train_pred , y_train))"
   ]
  },
  {
   "cell_type": "code",
   "execution_count": 78,
   "metadata": {},
   "outputs": [
    {
     "name": "stdout",
     "output_type": "stream",
     "text": [
      "0.7663\n"
     ]
    }
   ],
   "source": [
    "# validation\n",
    "# c = 1 max_iter = 1000 0.72612 0.7021 0.7046\n",
    "# c = 0.01 max_iter = 800 0.72612 0.7021 0.7046\n",
    "# c = 0.01 max_iter = 800 0.71782 0.7074 0.7055\n",
    "y_val_pred = lr_bi_tfidf.predict(X_val_bi_tfidf)\n",
    "print(accuracy(y_val_pred , y_val))"
   ]
  },
  {
   "cell_type": "code",
   "execution_count": 79,
   "metadata": {},
   "outputs": [
    {
     "name": "stdout",
     "output_type": "stream",
     "text": [
      "0.7681\n"
     ]
    }
   ],
   "source": [
    "# testing\n",
    "y_test_pred = lr_bi_tfidf.predict(X_test_bi_tfidf)\n",
    "print(accuracy(y_test_pred, y_test))"
   ]
  },
  {
   "cell_type": "code",
   "execution_count": 80,
   "metadata": {},
   "outputs": [
    {
     "data": {
      "image/png": "[encoded data removed]",
      "text/plain": [
       "<Figure size 432x288 with 2 Axes>"
      ]
     },
     "metadata": {
      "needs_background": "light"
     },
     "output_type": "display_data"
    }
   ],
   "source": [
    "# confusion matrix\n",
    "disp = plot_confusion_matrix(clf_uni_tfidf, X_test_bi_tfidf, y_test, \n",
    "                             cmap=plt.cm.Blues,\n",
    "                             normalize = 'true')\n",
    "plt.title('Logistic Regression/unigram/word bag')\n",
    "plt.show()"
   ]
  },
  {
   "cell_type": "code",
   "execution_count": null,
   "metadata": {},
   "outputs": [],
   "source": []
  }
 ],
 "metadata": {
  "kernelspec": {
   "display_name": "Python 3",
   "language": "python",
   "name": "python3"
  },
  "language_info": {
   "codemirror_mode": {
    "name": "ipython",
    "version": 3
   },
   "file_extension": ".py",
   "mimetype": "text/x-python",
   "name": "python",
   "nbconvert_exporter": "python",
   "pygments_lexer": "ipython3",
   "version": "3.7.6"
  }
 },
 "nbformat": 4,
 "nbformat_minor": 4
}
